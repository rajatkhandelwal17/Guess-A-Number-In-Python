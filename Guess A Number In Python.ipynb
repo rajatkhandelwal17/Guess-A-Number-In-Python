{
 "cells": [
  {
   "cell_type": "code",
   "execution_count": null,
   "metadata": {},
   "outputs": [],
   "source": [
    "import random\n",
    "\n",
    "start = int(input(\"Enter Starting Number: \"))\n",
    "end = int(input(\"Ender Ending Number: \"))\n",
    "\n",
    "num = random.randint(start, end)\n",
    "chances = 5\n",
    "count = 0\n",
    "\n",
    "while count < chances:\n",
    "    count+=1\n",
    "    guess = int(input(\"Guess A Number: \"))\n",
    "\n",
    "    if (guess > end) or (guess < start): \n",
    "        print(f\"Please Guess Number Between {start} To {end}...{chances-count} Try Left..\")\n",
    "    elif num == guess: \n",
    "        print(f\"Yeahh!!!...You Find Your Secret Number {num} In {count} Try..\") \n",
    "        break\n",
    "    elif count >= chances:\n",
    "        print(f\"OOPS!!!...YOU LOST\\nYOUR SECRET NUMBER IS {num}\")\n",
    "        print(\"BETTER LUCK NEXT TIME...\")\n",
    "    elif guess > num: \n",
    "        print(f\"Ohhh!!!...Your Number Is Too High.. {chances-count} Try Left..\")\n",
    "    elif guess < num: \n",
    "        print(f\"Ohhh!!!...Your Number Is Too Low...{chances-count} Try Left...\")"
   ]
  },
  {
   "cell_type": "code",
   "execution_count": null,
   "metadata": {},
   "outputs": [],
   "source": [
    "import random\n",
    "\n",
    "start = int(input(\"Enter Starting Number: \"))\n",
    "end = int(input(\"Ender Ending Number: \"))\n",
    "\n",
    "num = random.randint(start, end)\n",
    "count = 0\n",
    "chances = (start+end)//2\n",
    "print(f\"YOU HAVE {chances} CHANCES TO GUESS THE SECRET NUMBER\")\n",
    "\n",
    "while count < chances:\n",
    "    count+=1\n",
    "    guess = int(input(\"Guess A Number: \"))\n",
    "\n",
    "    if (guess > end) or (guess < start): \n",
    "        print(f\"Please Guess Number Between {start} To {end}...{chances-count} Try Left..\")\n",
    "    elif num == guess: \n",
    "        print(f\"Yeahh!!!...You Find Your Secret Number {num} In {count} Try..\") \n",
    "        break\n",
    "    # elif count >= chances:\n",
    "    #     print(f\"OOPS!!!...YOU LOST\\nYOUR SECRET NUMBER IS {num}\")\n",
    "    #     print(\"BETTER LUCK NEXT TIME...\")\n",
    "    elif guess > num: \n",
    "        print(f\"Ohhh!!!...Your Number Is Too High.. {chances-count} Try Left..\")\n",
    "    elif guess < num: \n",
    "        print(f\"Ohhh!!!...Your Number Is Too Low...{chances-count} Try Left...\")\n",
    "else:\n",
    "    print(\"OOPS YOU LOST!!!\")"
   ]
  },
  {
   "cell_type": "code",
   "execution_count": null,
   "metadata": {},
   "outputs": [],
   "source": [
    "import random\n",
    "\n",
    "s = int(input())\n",
    "e = int(input())\n",
    "\n",
    "n = random.randint(s,e)\n",
    "count = 0\n",
    "chances = (s+e)//2\n",
    "print(f\"{chances} CHANCES\")\n",
    "\n",
    "while count < chances:\n",
    "    count+=1\n",
    "    g = int(input())\n",
    "\n",
    "    if (g>e) or (g<s): \n",
    "        print(f\"Guess Between {s} To {e}\")\n",
    "        continue\n",
    "    elif n == g: \n",
    "        print(f\"Yeahh!!!...You Guessed\") \n",
    "        break\n",
    "    elif count >= chances: print(\"BETTER LUCK NEXT TIME...\")\n",
    "    elif g > n: print(f\"Guess Is Too High...\")\n",
    "    elif g < n: print(f\"Guess Is Too Low..\")"
   ]
  }
 ],
 "metadata": {
  "interpreter": {
   "hash": "f23faf4bfe871c203c8bec80520af5927fc7cb1ae3bd834ddf554ee587ad1c05"
  },
  "kernelspec": {
   "display_name": "Python 3.8.7 64-bit",
   "language": "python",
   "name": "python3"
  },
  "language_info": {
   "codemirror_mode": {
    "name": "ipython",
    "version": 3
   },
   "file_extension": ".py",
   "mimetype": "text/x-python",
   "name": "python",
   "nbconvert_exporter": "python",
   "pygments_lexer": "ipython3",
   "version": "3.8.7"
  },
  "orig_nbformat": 4
 },
 "nbformat": 4,
 "nbformat_minor": 2
}
